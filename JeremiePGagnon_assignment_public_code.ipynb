{
 "cells": [
  {
   "cell_type": "markdown",
   "id": "14b00102-440b-4360-87c5-e47759c0478c",
   "metadata": {},
   "source": [
    "# My Jupyter Notebook on IBM Watson Studio"
   ]
  },
  {
   "cell_type": "markdown",
   "id": "102c5cae-73cc-4d78-89f6-ebb38e2d45eb",
   "metadata": {},
   "source": [
    "**Jérémie Pelletier-Gagnon**  \n",
    "Data Analyst for a Videogame Company  \n",
    "(Since Watson Studio does not work, I used Jupter Lab and GiHub instead! Sorry!)"
   ]
  },
  {
   "cell_type": "markdown",
   "id": "2cc1c18f-c94b-455f-91c9-cbbe8f08b216",
   "metadata": {},
   "source": [
    "I am interested in data science because it allows to generate new insights and formulate new questions that will improve product management and creation more effectively. On a personal level, I think data science constitute a great challenge\\!"
   ]
  },
  {
   "cell_type": "markdown",
   "id": "ef6652b0-917a-4c87-bffe-d6b8dd3e0437",
   "metadata": {},
   "source": [
    "### This is what my code is supposed to do."
   ]
  },
  {
   "cell_type": "code",
   "execution_count": 2,
   "id": "50ebffce-cece-4dcc-8e36-3e38d7d3900e",
   "metadata": {},
   "outputs": [
    {
     "data": {
      "text/plain": [
       "3"
      ]
     },
     "execution_count": 2,
     "metadata": {},
     "output_type": "execute_result"
    }
   ],
   "source": [
    "banana = 1\n",
    "apple = 5\n",
    "pear = 3\n",
    "\n",
    "banana + apple - pear\n"
   ]
  },
  {
   "cell_type": "markdown",
   "id": "d1fff8bd-3eda-468c-92c3-130cdfb430e3",
   "metadata": {},
   "source": [
    "Some additional markdown elements ~~that are fun to use~~!\n",
    "\n",
    "The values of `banana` and `apple` is made up, but that of `pear` is real!\n",
    "\n",
    "*Here is a list of my favorite fruits.*\n",
    "1. Apples\n",
    "2. Bananas\n",
    "3. Grapes\n",
    "4. Cranberries!\n",
    "\n",
    "Some additional fuits that I don't like:\n",
    "\n",
    "  * Pineapples\n",
    "  * Pears\n",
    "  * Kiwis\n",
    "\n",
    "Here is a table representing how many fruits I have at home right now!\n",
    "\n",
    "|Bananas|Apples|Grapes|Kiwis|\n",
    "|------|------|------|------|\n",
    "|5|3|69|0|\n",
    "\n",
    "Why fruits, you ask?\n",
    "\n",
    "> One apple a day keeps the doctor away!\n",
    "\n",
    "Simple!\n",
    "\n",
    "Bonus image, guess the fruit!\n",
    "\n",
    "![alt text](/apple_158989157.jpg)\n",
    "\n",
    "Please visit my personal <a href=https://www.jeremiepgagnon.net>website</a> for completely unrelated information!\n",
    "\n"
   ]
  }
 ],
 "metadata": {
  "kernelspec": {
   "display_name": "Python 3 (ipykernel)",
   "language": "python",
   "name": "python3"
  },
  "language_info": {
   "codemirror_mode": {
    "name": "ipython",
    "version": 3
   },
   "file_extension": ".py",
   "mimetype": "text/x-python",
   "name": "python",
   "nbconvert_exporter": "python",
   "pygments_lexer": "ipython3",
   "version": "3.9.1"
  }
 },
 "nbformat": 4,
 "nbformat_minor": 5
}
